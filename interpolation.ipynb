{
 "cells": [
  {
   "cell_type": "markdown",
   "metadata": {},
   "source": [
    "# Dataset imports"
   ]
  },
  {
   "cell_type": "code",
   "execution_count": 1,
   "metadata": {},
   "outputs": [
    {
     "name": "stdout",
     "output_type": "stream",
     "text": [
      "Text from the file(s):\n",
      "The Fulton County Grand Jury said Friday an investigation of Atlanta's recent primary election produced `` no evidence '' that any irregularities took place .\n",
      "The September-October term jury had been charged by Fulton Superior Court Judge Durwood Pye to investigate reports of possible `` irregularities '' in the hard-fought primary which was won by Mayor-nominate Ivan Allen Jr. .\n",
      "The jury said it did find that many of Georgia's registration and election laws `` are outmoded or inadequate and oft  ...\n",
      "\n",
      "\n",
      "The jury further said in term-end presentments that the City Executive Committee , which had over-all charge of the election , `` deserves the praise and thanks of the City of Atlanta '' for the manner in which the election was conducted .\n",
      "`` Only a relative handful of such reports was received '' , the jury said , `` considering the widespread interest in the election , the number of voters and the size of this city '' .\n",
      "The jury did not elaborate , but it added that `` there should be periodic  ...\n",
      "\n",
      "\n",
      "Implementation of Georgia's automobile title law was also recommended by the outgoing jury .\n",
      "The grand jury took a swipe at the State Welfare Department's handling of federal funds granted for child welfare services in foster homes .\n",
      "Regarding Atlanta's new multi-million-dollar airport , the jury recommended `` that when the new management takes charge Jan. 1 the airport be operated in a manner that will eliminate political influences '' .\n",
      "Hartsfield has been mayor of Atlanta , with exception of  ...\n",
      "\n",
      "\n"
     ]
    }
   ],
   "source": [
    "# Get the file name from the uploaded files\n",
    "train_file = './data/brown.train.txt'\n",
    "test_file = './data/brown.test.txt'\n",
    "dev_file = './data/brown.dev.txt'\n",
    "\n",
    "# Read text from the uploaded file\n",
    "with open(train_file, 'r') as file:\n",
    "    train_text = file.read()\n",
    "\n",
    "with open(test_file, 'r') as file:\n",
    "    test_text = file.read()\n",
    "\n",
    "with open(dev_file, 'r') as file:\n",
    "    dev_text = file.read()\n",
    "\n",
    "print(\"Text from the file(s):\")\n",
    "\n",
    "print(train_text[:500], \" ...\\n\\n\")\n",
    "print(test_text[:500], \" ...\\n\\n\")\n",
    "print(dev_text[:500], \" ...\\n\\n\")"
   ]
  },
  {
   "cell_type": "markdown",
   "metadata": {},
   "source": [
    "# Text Cleaning\n",
    "\n",
    "- In this section, the input corpus is cleaned and **all non-alphanumeric** symbols are dropped\n",
    "\n",
    "- `<start>` and `<stop>` tags are added at the *start* and *end* of every sentence"
   ]
  },
  {
   "cell_type": "code",
   "execution_count": 2,
   "metadata": {},
   "outputs": [],
   "source": [
    "import math\n",
    "import re\n",
    "from collections import Counter"
   ]
  },
  {
   "cell_type": "code",
   "execution_count": 3,
   "metadata": {},
   "outputs": [],
   "source": [
    "def clean_text(corpus):\n",
    "  # Convert to lowercase and remove punctuation\n",
    "  corpus = corpus.lower()\n",
    "  cleaned_corpus = re.sub(r'[^a-zA-Z0-9\\s\\n]', ' ', corpus)\n",
    "\n",
    "  return cleaned_corpus"
   ]
  },
  {
   "cell_type": "code",
   "execution_count": 4,
   "metadata": {},
   "outputs": [],
   "source": [
    "def add_start_stop_tags (text):\n",
    "    sentences = text.split('\\n')\n",
    "    tagged_sentences = ['<start> ' + sentence + ' <stop>\\n' for sentence in sentences if sentence.strip()]\n",
    "\n",
    "    return ' '.join(tagged_sentences)"
   ]
  },
  {
   "cell_type": "code",
   "execution_count": 5,
   "metadata": {},
   "outputs": [],
   "source": [
    "def read_text_from_file(file_path):\n",
    "    try:\n",
    "        with open(file_path, 'r', encoding='utf-8') as file:\n",
    "            text = file.read()\n",
    "        return text\n",
    "    except FileNotFoundError:\n",
    "        print(f\"File not found: {file_path}\")\n",
    "        return None\n",
    "    except Exception as e:\n",
    "        print(f\"An error occurred: {e}\")\n",
    "        return None"
   ]
  },
  {
   "cell_type": "code",
   "execution_count": 6,
   "metadata": {},
   "outputs": [
    {
     "name": "stdout",
     "output_type": "stream",
     "text": [
      "Train Text: \n",
      " <start> the fulton county grand jury said friday an investigation of atlanta s recent primary election produced    no evidence    that any irregularities took place   <stop>\n",
      " <start> the september october term jury had been charged by fulton superior court judge durwood pye to investigate reports of possible    irregularities    in the hard fought primary which was won by mayor nominate ivan allen jr    <stop>\n",
      " <start> the jury said it did find that many of georgia s registration and election laws    are outmoded or inadequate and often ambiguous      <stop>\n",
      " <start> it recommended that fulton legislators act    to have these laws studied and revised to the end of modernizing and improving them      <stop>\n",
      " <start> the grand jury commented on a number of other topics   among them the atlanta and fulton county purchasing departments which it said    are well operated and follow generally accepted practices which inure to the best interest of both governments      <stop>\n",
      " <start> merger   ...\n",
      "\n",
      "\n",
      "Dev Text:   \n",
      " <start> implementation of georgia s automobile title law was also recommended by the outgoing jury   <stop>\n",
      " <start> the grand jury took a swipe at the state welfare department s handling of federal funds granted for child welfare services in foster homes   <stop>\n",
      " <start> regarding atlanta s new multi million dollar airport   the jury recommended    that when the new management takes charge jan  1 the airport be operated in a manner that will eliminate political influences      <stop>\n",
      " <start> hartsfield has been mayor of atlanta   with exception of one brief interlude   since 1937   <stop>\n",
      " <start> caldwell s resignation had been expected for some time   <stop>\n",
      " <start> a revolving fund <stop>\n",
      " <start> a veteran jackson county legislator will ask the georgia house monday to back federal aid to education   something it has consistently opposed in the past   <stop>\n",
      " <start> he told the committee the measure would merely provide means of enforcing the escheat law which has been on the b  ...\n",
      "\n",
      "\n",
      "Test Text:  \n",
      " <start> the jury further said in term end presentments that the city executive committee   which had over all charge of the election      deserves the praise and thanks of the city of atlanta    for the manner in which the election was conducted   <stop>\n",
      " <start>    only a relative handful of such reports was received      the jury said      considering the widespread interest in the election   the number of voters and the size of this city      <stop>\n",
      " <start> the jury did not elaborate   but it added that    there should be periodic surveillance of the pricing practices of the concessionaires for the purpose of keeping the prices reasonable      <stop>\n",
      " <start> on other matters   the jury recommended that     1   <stop>\n",
      " <start> they have a son   william berry jr    and a daughter   mrs  j  m  cheshire of griffin   <stop>\n",
      " <start> attorneys for the mayor said that an amicable property settlement has been agreed upon   <stop>\n",
      " <start> vandiver likely will mention the  100 million high  ...\n",
      "\n",
      "\n"
     ]
    }
   ],
   "source": [
    "# Loading training, dev and test corpus\n",
    "\n",
    "train_corpus = read_text_from_file('./data/brown.train.txt') \n",
    "dev_corpus = read_text_from_file('./data/brown.dev.txt') \n",
    "test_corpus = read_text_from_file('./data/brown.test.txt') \n",
    "\n",
    "train_text = add_start_stop_tags(clean_text(train_corpus))\n",
    "dev_text = add_start_stop_tags(clean_text(dev_corpus))\n",
    "test_text = add_start_stop_tags(clean_text(test_corpus))\n",
    "\n",
    "print (\"Train Text: \\n\", train_text[:1000], \" ...\\n\\n\")\n",
    "print (\"Dev Text:   \\n\", dev_text[:1000], \" ...\\n\\n\")\n",
    "print (\"Test Text:  \\n\", test_text[:1000], \" ...\\n\\n\")"
   ]
  },
  {
   "cell_type": "markdown",
   "metadata": {},
   "source": [
    "# Vocabulary Generation (for Add-K Smoothing)\n",
    "\n",
    "Here, `vocabulary` and `vocab_counts` are generated which are used while smoothening."
   ]
  },
  {
   "cell_type": "code",
   "execution_count": 7,
   "metadata": {},
   "outputs": [],
   "source": [
    "def generate_vocabulary (text, threshold = 2):\n",
    "    # preprocessing the corpus to extract text\n",
    "    # text = preprocess_corpus(corpus)\n",
    "\n",
    "    text_words = text.split()\n",
    "    word_counts = Counter (text_words)\n",
    "\n",
    "    vocabulary = [word for word, count in word_counts.items() if count > threshold]\n",
    "    return vocabulary"
   ]
  },
  {
   "cell_type": "code",
   "execution_count": 8,
   "metadata": {},
   "outputs": [
    {
     "name": "stdout",
     "output_type": "stream",
     "text": [
      "['<start>', 'the', 'fulton', 'county', 'grand', 'jury', 'said', 'friday', 'an', 'investigation', 'of', 'atlanta', 's', 'recent', 'primary', 'election', 'produced', 'no', 'evidence', 'that', 'any', 'irregularities', 'took', 'place', '<stop>', 'september', 'october', 'term', 'had', 'been', 'charged', 'by', 'superior', 'court', 'judge', 'durwood', 'pye', 'to', 'investigate', 'reports', 'possible', 'in', 'hard', 'fought', 'which', 'was', 'won', 'mayor', 'nominate', 'ivan']  ...\n",
      "38750\n"
     ]
    }
   ],
   "source": [
    "# Generating Vocabulary for Training Data (corpus)\n",
    "\n",
    "vocabulary = generate_vocabulary(train_text, threshold=0)\n",
    "vocab_size = len(vocabulary)\n",
    "\n",
    "print (vocabulary[0:50], \" ...\")\n",
    "print (vocab_size)"
   ]
  },
  {
   "cell_type": "markdown",
   "metadata": {},
   "source": [
    "# Model Training\n",
    "\n",
    "Here the `smooth_unigrams`, `smooth_bigrams`, and `smooth_trigrams` are trained for various `K = 1` to `10`.  "
   ]
  },
  {
   "cell_type": "code",
   "execution_count": 9,
   "metadata": {},
   "outputs": [],
   "source": [
    "def train_ngram_model_addk_smoothing(text, N, K):\n",
    "  # Tokenize the text into words\n",
    "  words = text.split()\n",
    "\n",
    "  # Create n-grams\n",
    "  ngrams = [tuple(words[i:i+N]) for i in range(len(words) - N+1)]\n",
    "\n",
    "  # Count the occurrences of each n-gram\n",
    "  ngram_frequencies = Counter(ngrams)\n",
    "\n",
    "  vocab_size = len(vocabulary)\n",
    "\n",
    "  # Calculate log probabilities\n",
    "  total_ngrams = len(ngrams)\n",
    "  log_probabilities = {ngram: math.log((count + K) / (total_ngrams + K*vocab_size)) for ngram, count in ngram_frequencies.items()}\n",
    "\n",
    "  return log_probabilities, ngrams"
   ]
  },
  {
   "cell_type": "code",
   "execution_count": 10,
   "metadata": {},
   "outputs": [
    {
     "name": "stdout",
     "output_type": "stream",
     "text": [
      "Smooth Unigrams:  1 :  [(('<start>',), 0.0), (('the',), -2.8383022480652116), (('fulton',), -10.879804557317067), (('county',), -8.92598922875464), (('grand',), -10.081296861099295), (('jury',), -9.858153309785086), (('said',), -6.396802005303183), (('friday',), -9.838350682488906), (('an',), -5.769826819888548), (('investigation',), -9.920028713503173), (('of',), -3.4893145347354646), (('atlanta',), -10.336189110728085), (('s',), -5.247597651520656), (('recent',), -8.807331684953324), (('primary',), -9.363457067948978), (('election',), -9.580521573186806), (('produced',), -9.45268820167692), (('no',), -6.28749448705858), (('evidence',), -8.682579979980847), (('that',), -4.720474289199862)]\n",
      "Smooth Unigrams:  2 :  [(('<start>',), 0.0), (('the',), -2.878031030304502), (('fulton',), -10.865483997298803), (('county',), -8.957892712545625), (('grand',), -10.096350909760936), (('jury',), -9.878097343740917), (('said',), -6.4359211171150825), (('friday',), -9.858679257883816), (('an',), -5.809238191950494), (('investigation',), -9.938721965557352), (('of',), -3.529026913603476), (('atlanta',), -10.344187073665516), (('s',), -5.287145406755105), (('recent',), -8.840109676889243), (('primary',), -9.391082368668645), (('election',), -9.605230357074277), (('produced',), -9.479189636178912), (('no',), -6.326678560391393), (('evidence',), -8.716172775658482), (('that',), -4.760103531324162)]\n",
      "Smooth Unigrams:  3 :  [(('<start>',), 0.0), (('the',), -2.916240222053239), (('fulton',), -10.852417773353057), (('county',), -8.988337642545376), (('grand',), -10.11048042862368), (('jury',), -9.89690632832562), (('said',), -6.4735210316881036), (('friday',), -9.877858133354927), (('an',), -5.847130085583397), (('investigation',), -9.956329748796422), (('of',), -3.5672197028365225), (('atlanta',), -10.351642485440568), (('s',), -5.325173610735083), (('recent',), -8.871416304486473), (('primary',), -9.417333248063734), (('election',), -9.628642341730941), (('produced',), -9.504344625053365), (('no',), -6.3643433592412135), (('evidence',), -8.74828361908285), (('that',), -4.798213196423889)]\n",
      "Smooth Unigrams:  4 :  [(('<start>',), 0.0), (('the',), -2.95304175095093), (('fulton',), -10.840447016454743), (('county',), -9.017435003722582), (('grand',), -10.123769338484603), (('jury',), -9.914677540626043), (('said',), -6.509713676168412), (('friday',), -9.89598540761389), (('an',), -5.883614428351463), (('investigation',), -9.972946448750019), (('of',), -3.6040048300740417), (('atlanta',), -10.358608929562005), (('s',), -5.36179419108438), (('recent',), -8.901362832469829), (('primary',), -9.442318197687849), (('election',), -9.650862949580906), (('produced',), -9.528260627488574), (('no',), -6.400600810892034), (('evidence',), -8.779023980277584), (('that',), -4.834915212135325)]\n",
      "Smooth Unigrams:  5 :  [(('<start>',), 0.0), (('the',), -2.988535616349301), (('fulton',), -10.829438744272016), (('county',), -9.045283874429181), (('grand',), -10.13629156371207), (('jury',), -9.931497151066058), (('said',), -6.54459904941532), (('friday',), -9.913148012397862), (('an',), -5.9187912195311965), (('investigation',), -9.988655564906006), (('of',), -3.639482294667691), (('atlanta',), -10.36513313614092), (('s',), -5.397107147139013), (('recent',), -8.930048610851596), (('primary',), -9.466133901376825), (('election',), -9.671985955580974), (('produced',), -9.55103334516331), (('no',), -6.435550914340671), (('evidence',), -8.808493409273789), (('that',), -4.870309577806971)]\n",
      "Smooth Unigrams:  6 :  [(('<start>',), 0.0), (('the',), -3.0228115262797894), (('fulton',), -10.819280769365847), (('county',), -9.071973062708626), (('grand',), -10.148112495524677), (('jury',), -9.947441800062526), (('said',), -6.578266858968777), (('friday',), -9.929423294559848), (('an',), -5.952750167078887), (('investigation',), -10.00353126671357), (('of',), -3.6737418046488384), (('atlanta',), -10.371256046838887), (('s',), -5.431202186914721), (('recent',), -8.957562711530882), (('primary',), -9.488866866640413), (('election',), -9.692095108253682), (('produced',), -9.572748350621115), (('no',), -6.469283377264242), (('evidence',), -8.836781172878242), (('that',), -4.904486001467041)]\n",
      "Smooth Unigrams:  7 :  [(('<start>',), 0.0), (('the',), -3.0559502629011424), (('fulton',), -10.809877768982973), (('county',), -9.097582471109165), (('grand',), -10.159290202841824), (('jury',), -9.96257990859577), (('said',), -6.6107978864969645), (('friday',), -9.944880331496368), (('an',), -5.985572053078211), (('investigation',), -10.017639685778796), (('of',), -3.706864142176162), (('atlanta',), -10.377013686686693), (('s',), -5.464160092554558), (('recent',), -8.983985293385459), (('primary',), -9.510594784852712), (('election',), -9.711265480314863), (('produced',), -9.593482444658479), (('no',), -6.501878981467778), (('evidence',), -8.86396761992766), (('that',), -4.937525265271061)]\n",
      "Smooth Unigrams:  8 :  [(('<start>',), 0.0), (('the',), -3.088024828739977), (('fulton',), -10.801148217396525), (('county',), -9.122184242313814), (('grand',), -10.169876440554667), (('jury',), -9.976972774430175), (('said',), -6.642265134036853), (('friday',), -9.959581031718306), (('an',), -6.017329879980788), (('investigation',), -10.031039995700452), (('of',), -3.7389223097762097), (('atlanta',), -10.38243788253834), (('s',), -5.496053866569465), (('recent',), -9.00938874816847), (('primary',), -9.531387672532587), (('election',), -9.729564601116335), (('produced',), -9.613304795000472), (('no',), -6.533410729124771), (('evidence',), -8.890125327341652), (('that',), -4.969500371742428)]\n",
      "Smooth Unigrams:  9 :  [(('<start>',), 0.0), (('the',), -3.1191014146433167), (('fulton',), -10.793021966921971), (('county',), -9.145843726505024), (('grand',), -10.179917494035562), (('jury',), -9.990675494397033), (('said',), -6.672734791946739), (('friday',), -9.973581061037734), (('an',), -6.048089838558721), (('investigation',), -10.043785319710983), (('of',), -3.7699824982959353), (('atlanta',), -10.387556858813806), (('s',), -5.526949699790791), (('recent',), -9.033838668128528), (('primary',), -9.551308834613188), (('election',), -9.747053411739284), (('produced',), -9.632277897146855), (('no',), -6.563944810729714), (('evidence',), -8.915320067893191), (('that',), -5.000477511724945)]\n",
      "Smooth Unigrams:  10 :  [(('<start>',), 0.0), (('the',), -3.1492402217189976), (('fulton',), -10.78543832247062), (('county',), -9.168620302738896), (('grand',), -10.189454890364322), (('jury',), -10.003737744569229), (('said',), -6.702267060846644), (('friday',), -9.986930626252848), (('an',), -6.077912129845), (('investigation',), -10.0559234977398), (('of',), -3.8001049088431076), (('atlanta',), -10.392395734361012), (('s',), -5.55690779331071), (('recent',), -9.057394667628673), (('primary',), -9.570415681958098), (('election',), -9.763787074938637), (('produced',), -9.650458389631634), (('no',), -6.593541427038504), (('evidence',), -8.939611631972289), (('that',), -5.03051688632323)]\n",
      "\n",
      "\n",
      "\n",
      "Smooth Bigrams:  1 :  [(('<start>', 'the'), -5.13395537099726), (('the', 'fulton'), -11.824265119779826), (('fulton', 'county'), -11.824265119779826), (('county', 'grand'), -13.077028088275194), (('grand', 'jury'), -11.572950691498919), (('jury', 'said'), -11.690733727155303), (('said', 'friday'), -12.383880907715248), (('friday', 'an'), -13.077028088275194), (('an', 'investigation'), -11.824265119779826), (('investigation', 'of'), -11.062125067732929), (('of', 'atlanta'), -12.160737356401038), (('atlanta', 's'), -12.383880907715248), (('s', 'recent'), -13.077028088275194), (('recent', 'primary'), -13.077028088275194), (('primary', 'election'), -12.671562980167028), (('election', 'produced'), -13.077028088275194), (('produced', 'no'), -12.671562980167028), (('no', 'evidence'), -11.467590175841092), (('evidence', 'that'), -10.336188064349992), (('that', 'any'), -10.63468105290599)]\n",
      "Smooth Bigrams:  2 :  [(('<start>', 'the'), -5.173524531966803), (('the', 'fulton'), -11.73048042918168), (('fulton', 'county'), -11.73048042918168), (('county', 'grand'), -12.711309682193408), (('grand', 'jury'), -11.507336877867472), (('jury', 'said'), -11.612697393525297), (('said', 'friday'), -12.200484058427415), (('friday', 'an'), -12.711309682193408), (('an', 'investigation'), -11.73048042918168), (('investigation', 'of'), -11.037333248621735), (('of', 'atlanta'), -12.018162501633462), (('atlanta', 's'), -12.200484058427415), (('s', 'recent'), -12.711309682193408), (('recent', 'primary'), -12.711309682193408), (('primary', 'election'), -12.423627609741626), (('election', 'produced'), -12.711309682193408), (('produced', 'no'), -12.423627609741626), (('no', 'evidence'), -11.412026698063146), (('evidence', 'that'), -10.34418606806179), (('that', 'any'), -10.631868140513571)]\n",
      "Smooth Bigrams:  3 :  [(('<start>', 'the'), -5.211574130582831), (('the', 'fulton'), -11.65092450168293), (('fulton', 'county'), -11.65092450168293), (('county', 'grand'), -12.461854717899259), (('grand', 'jury'), -11.450253806220779), (('jury', 'said'), -11.545563986025103), (('said', 'friday'), -12.056389609791093), (('friday', 'an'), -12.461854717899259), (('an', 'investigation'), -11.65092450168293), (('investigation', 'of'), -11.014935734962933), (('of', 'atlanta'), -11.902238929963836), (('atlanta', 's'), -12.056389609791093), (('s', 'recent'), -12.461854717899259), (('recent', 'primary'), -12.461854717899259), (('primary', 'election'), -12.238711166585048), (('election', 'produced'), -12.461854717899259), (('produced', 'no'), -12.238711166585048), (('no', 'evidence'), -11.363242429231148), (('evidence', 'that'), -10.351641517552668), (('that', 'any'), -10.629273254150949)]\n",
      "Smooth Bigrams:  4 :  [(('<start>', 'the'), -5.248216094805375), (('the', 'fulton'), -11.582383428285207), (('fulton', 'county'), -11.582383428285207), (('county', 'grand'), -12.275530608845152), (('grand', 'jury'), -11.400061871491252), (('jury', 'said'), -11.48707324848088), (('said', 'friday'), -11.939058372223938), (('friday', 'an'), -12.275530608845152), (('an', 'investigation'), -11.582383428285207), (('investigation', 'of'), -10.994596763383088), (('of', 'atlanta'), -11.805526979599415), (('atlanta', 's'), -11.939058372223938), (('s', 'recent'), -12.275530608845152), (('recent', 'primary'), -12.275530608845152), (('primary', 'election'), -12.093209052051197), (('election', 'produced'), -12.275530608845152), (('produced', 'no'), -12.093209052051197), (('no', 'evidence'), -11.320019163817715), (('evidence', 'that'), -10.35860799666309), (('that', 'any'), -10.62687198325777)]\n",
      "Smooth Bigrams:  5 :  [(('<start>', 'the'), -5.283550424260399), (('the', 'fulton'), -11.5225850244806), (('fulton', 'county'), -11.5225850244806), (('county', 'grand'), -12.128720828050914), (('grand', 'jury'), -11.355530939817433), (('jury', 'said'), -11.435573647490969), (('said', 'friday'), -11.841038755599135), (('friday', 'an'), -12.128720828050914), (('an', 'investigation'), -11.5225850244806), (('investigation', 'of'), -10.976041318112529), (('of', 'atlanta'), -11.72325571994275), (('atlanta', 's'), -11.841038755599135), (('s', 'recent'), -12.128720828050914), (('recent', 'primary'), -12.128720828050914), (('primary', 'election'), -11.974570148223657), (('election', 'produced'), -12.128720828050914), (('produced', 'no'), -11.974570148223657), (('no', 'evidence'), -11.281422967663712), (('evidence', 'that'), -10.365132235789556), (('that', 'any'), -10.624643431274642)]\n",
      "Smooth Bigrams:  6 :  [(('<start>', 'the'), -5.317666827215096), (('the', 'fulton'), -11.46986746550867), (('fulton', 'county'), -11.46986746550867), (('county', 'grand'), -12.008863966241359), (('grand', 'jury'), -11.315716785681413), (('jury', 'said'), -11.389824757835134), (('said', 'friday'), -11.757549537960452), (('friday', 'an'), -12.008863966241359), (('an', 'investigation'), -11.46986746550867), (('investigation', 'of'), -10.95904184174268), (('of', 'atlanta'), -11.652189022302625), (('atlanta', 's'), -11.757549537960452), (('s', 'recent'), -12.008863966241359), (('recent', 'primary'), -12.008863966241359), (('primary', 'election'), -11.875332573616836), (('election', 'produced'), -12.008863966241359), (('produced', 'no'), -11.875332573616836), (('no', 'evidence'), -11.246723914194462), (('evidence', 'that'), -10.371255176840561), (('that', 'any'), -10.622569605121468)]\n",
      "Smooth Bigrams:  7 :  [(('<start>', 'the'), -5.350646086031767), (('the', 'fulton'), -11.422981400244288), (('fulton', 'county'), -11.422981400244288), (('county', 'grand'), -11.90848921602599), (('grand', 'jury'), -11.279880556603615), (('jury', 'said'), -11.348873428090567), (('said', 'friday'), -11.685345664711779), (('friday', 'an'), -11.90848921602599), (('an', 'investigation'), -11.422981400244288), (('investigation', 'of'), -10.943408319982401), (('of', 'atlanta'), -11.590035484907453), (('atlanta', 's'), -11.685345664711779), (('s', 'recent'), -11.90848921602599), (('recent', 'primary'), -11.90848921602599), (('primary', 'election'), -11.790706180369606), (('election', 'produced'), -11.90848921602599), (('produced', 'no'), -11.790706180369606), (('no', 'evidence'), -11.215342035466044), (('evidence', 'that'), -10.3770128450616), (('that', 'any'), -10.620634927719351)]\n",
      "Smooth Bigrams:  8 :  [(('<start>', 'the'), -5.38256120341346), (('the', 'fulton'), -11.380965897605384), (('fulton', 'county'), -11.380965897605384), (('county', 'grand'), -11.822798649884422), (('grand', 'jury'), -11.24743450498086), (('jury', 'said'), -11.311973026118432), (('said', 'friday'), -11.622127954422272), (('friday', 'an'), -11.822798649884422), (('an', 'investigation'), -11.380965897605384), (('investigation', 'of'), -10.928980773862326), (('of', 'atlanta'), -11.535116577432643), (('atlanta', 's'), -11.622127954422272), (('s', 'recent'), -11.822798649884422), (('recent', 'primary'), -11.822798649884422), (('primary', 'election'), -11.717438134226596), (('election', 'produced'), -11.822798649884422), (('produced', 'no'), -11.717438134226596), (('no', 'evidence'), -11.186809883164425), (('evidence', 'that'), -10.382437067494257), (('that', 'any'), -10.618825845558487)]\n",
      "Smooth Bigrams:  9 :  [(('<start>', 'the'), -5.413478370360666), (('the', 'fulton'), -11.34306751375056), (('fulton', 'county'), -11.34306751375056), (('county', 'grand'), -11.748532621858725), (('grand', 'jury'), -11.217904370796553), (('jury', 'said'), -11.278528992612989), (('said', 'friday'), -11.56621106506477), (('friday', 'an'), -11.748532621858725), (('an', 'investigation'), -11.34306751375056), (('investigation', 'of'), -10.91562349892362), (('of', 'atlanta'), -11.486168357391234), (('atlanta', 's'), -11.56621106506477), (('s', 'recent'), -11.748532621858725), (('recent', 'primary'), -11.748532621858725), (('primary', 'election'), -11.6532224420544), (('election', 'produced'), -11.748532621858725), (('produced', 'no'), -11.6532224420544), (('no', 'evidence'), -11.160745956956605), (('evidence', 'that'), -10.387556068723123), (('that', 'any'), -10.617130510367623)]\n",
      "Smooth Bigrams:  10 :  [(('<start>', 'the'), -5.443457788115134), (('the', 'fulton'), -11.308685699615328), (('fulton', 'county'), -11.308685699615328), (('county', 'grand'), -11.683379149056739), (('grand', 'jury'), -11.190902663958944), (('jury', 'said'), -11.248061077798893), (('said', 'friday'), -11.516325064393573), (('friday', 'an'), -11.683379149056739), (('an', 'investigation'), -11.308685699615328), (('investigation', 'of'), -10.903220591507164), (('of', 'atlanta'), -11.44221709223985), (('atlanta', 's'), -11.516325064393573), (('s', 'recent'), -11.683379149056739), (('recent', 'primary'), -11.683379149056739), (('primary', 'election'), -11.59636777206711), (('election', 'produced'), -11.683379149056739), (('produced', 'no'), -11.59636777206711), (('no', 'evidence'), -11.13683544268867), (('evidence', 'that'), -10.392394967741174), (('that', 'any'), -10.615538519055383)]\n",
      "\n",
      "\n",
      "\n",
      "Smooth Trigrams:  1 :  [(('<start>', 'the', 'fulton'), -13.077027041896006), (('the', 'fulton', 'county'), -12.38387986133606), (('fulton', 'county', 'grand'), -13.077027041896006), (('county', 'grand', 'jury'), -13.077027041896006), (('grand', 'jury', 'said'), -13.077027041896006), (('jury', 'said', 'friday'), -13.077027041896006), (('said', 'friday', 'an'), -13.077027041896006), (('friday', 'an', 'investigation'), -13.077027041896006), (('an', 'investigation', 'of'), -12.16073631002185), (('investigation', 'of', 'atlanta'), -13.077027041896006), (('of', 'atlanta', 's'), -13.077027041896006), (('atlanta', 's', 'recent'), -13.077027041896006), (('s', 'recent', 'primary'), -13.077027041896006), (('recent', 'primary', 'election'), -13.077027041896006), (('primary', 'election', 'produced'), -13.077027041896006), (('election', 'produced', 'no'), -13.077027041896006), (('produced', 'no', 'evidence'), -13.077027041896006), (('no', 'evidence', 'that'), -12.16073631002185), (('evidence', 'that', 'any'), -13.077027041896006), (('that', 'any', 'irregularities'), -13.077027041896006)]\n",
      "Smooth Trigrams:  2 :  [(('<start>', 'the', 'fulton'), -12.711308676588668), (('the', 'fulton', 'county'), -12.200483052822678), (('fulton', 'county', 'grand'), -12.711308676588668), (('county', 'grand', 'jury'), -12.711308676588668), (('grand', 'jury', 'said'), -12.711308676588668), (('jury', 'said', 'friday'), -12.711308676588668), (('said', 'friday', 'an'), -12.711308676588668), (('friday', 'an', 'investigation'), -12.711308676588668), (('an', 'investigation', 'of'), -12.018161496028723), (('investigation', 'of', 'atlanta'), -12.711308676588668), (('of', 'atlanta', 's'), -12.711308676588668), (('atlanta', 's', 'recent'), -12.711308676588668), (('s', 'recent', 'primary'), -12.711308676588668), (('recent', 'primary', 'election'), -12.711308676588668), (('primary', 'election', 'produced'), -12.711308676588668), (('election', 'produced', 'no'), -12.711308676588668), (('produced', 'no', 'evidence'), -12.711308676588668), (('no', 'evidence', 'that'), -12.018161496028723), (('evidence', 'that', 'any'), -12.711308676588668), (('that', 'any', 'irregularities'), -12.711308676588668)]\n",
      "Smooth Trigrams:  3 :  [(('<start>', 'the', 'fulton'), -12.461853750010423), (('the', 'fulton', 'county'), -12.056388641902258), (('fulton', 'county', 'grand'), -12.461853750010423), (('county', 'grand', 'jury'), -12.461853750010423), (('grand', 'jury', 'said'), -12.461853750010423), (('jury', 'said', 'friday'), -12.461853750010423), (('said', 'friday', 'an'), -12.461853750010423), (('friday', 'an', 'investigation'), -12.461853750010423), (('an', 'investigation', 'of'), -11.902237962075), (('investigation', 'of', 'atlanta'), -12.461853750010423), (('of', 'atlanta', 's'), -12.461853750010423), (('atlanta', 's', 'recent'), -12.461853750010423), (('s', 'recent', 'primary'), -12.461853750010423), (('recent', 'primary', 'election'), -12.461853750010423), (('primary', 'election', 'produced'), -12.461853750010423), (('election', 'produced', 'no'), -12.461853750010423), (('produced', 'no', 'evidence'), -12.461853750010423), (('no', 'evidence', 'that'), -11.902237962075), (('evidence', 'that', 'any'), -12.461853750010423), (('that', 'any', 'irregularities'), -12.461853750010423)]\n",
      "Smooth Trigrams:  4 :  [(('<start>', 'the', 'fulton'), -12.275529675945368), (('the', 'fulton', 'county'), -11.939057439324156), (('fulton', 'county', 'grand'), -12.275529675945368), (('county', 'grand', 'jury'), -12.275529675945368), (('grand', 'jury', 'said'), -12.275529675945368), (('jury', 'said', 'friday'), -12.275529675945368), (('said', 'friday', 'an'), -12.275529675945368), (('friday', 'an', 'investigation'), -12.275529675945368), (('an', 'investigation', 'of'), -11.805526046699633), (('investigation', 'of', 'atlanta'), -12.275529675945368), (('of', 'atlanta', 's'), -12.275529675945368), (('atlanta', 's', 'recent'), -12.275529675945368), (('s', 'recent', 'primary'), -12.275529675945368), (('recent', 'primary', 'election'), -12.275529675945368), (('primary', 'election', 'produced'), -12.275529675945368), (('election', 'produced', 'no'), -12.275529675945368), (('produced', 'no', 'evidence'), -12.275529675945368), (('no', 'evidence', 'that'), -11.805526046699633), (('evidence', 'that', 'any'), -12.275529675945368), (('that', 'any', 'irregularities'), -12.275529675945368)]\n",
      "Smooth Trigrams:  5 :  [(('<start>', 'the', 'fulton'), -12.128719927698743), (('the', 'fulton', 'county'), -11.841037855246961), (('fulton', 'county', 'grand'), -12.128719927698743), (('county', 'grand', 'jury'), -12.128719927698743), (('grand', 'jury', 'said'), -12.128719927698743), (('jury', 'said', 'friday'), -12.128719927698743), (('said', 'friday', 'an'), -12.128719927698743), (('friday', 'an', 'investigation'), -12.128719927698743), (('an', 'investigation', 'of'), -11.723254819590577), (('investigation', 'of', 'atlanta'), -12.128719927698743), (('of', 'atlanta', 's'), -12.128719927698743), (('atlanta', 's', 'recent'), -12.128719927698743), (('s', 'recent', 'primary'), -12.128719927698743), (('recent', 'primary', 'election'), -12.128719927698743), (('primary', 'election', 'produced'), -12.128719927698743), (('election', 'produced', 'no'), -12.128719927698743), (('produced', 'no', 'evidence'), -12.128719927698743), (('no', 'evidence', 'that'), -11.723254819590577), (('evidence', 'that', 'any'), -12.128719927698743), (('that', 'any', 'irregularities'), -12.128719927698743)]\n",
      "Smooth Trigrams:  6 :  [(('<start>', 'the', 'fulton'), -12.008863096242276), (('the', 'fulton', 'county'), -11.75754866796137), (('fulton', 'county', 'grand'), -12.008863096242276), (('county', 'grand', 'jury'), -12.008863096242276), (('grand', 'jury', 'said'), -12.008863096242276), (('jury', 'said', 'friday'), -12.008863096242276), (('said', 'friday', 'an'), -12.008863096242276), (('friday', 'an', 'investigation'), -12.008863096242276), (('an', 'investigation', 'of'), -11.652188152303545), (('investigation', 'of', 'atlanta'), -12.008863096242276), (('of', 'atlanta', 's'), -12.008863096242276), (('atlanta', 's', 'recent'), -12.008863096242276), (('s', 'recent', 'primary'), -12.008863096242276), (('recent', 'primary', 'election'), -12.008863096242276), (('primary', 'election', 'produced'), -12.008863096242276), (('election', 'produced', 'no'), -12.008863096242276), (('produced', 'no', 'evidence'), -12.008863096242276), (('no', 'evidence', 'that'), -11.652188152303545), (('evidence', 'that', 'any'), -12.008863096242276), (('that', 'any', 'irregularities'), -12.008863096242276)]\n",
      "Smooth Trigrams:  7 :  [(('<start>', 'the', 'fulton'), -11.908488374400186), (('the', 'fulton', 'county'), -11.685344823085977), (('fulton', 'county', 'grand'), -11.908488374400186), (('county', 'grand', 'jury'), -11.908488374400186), (('grand', 'jury', 'said'), -11.908488374400186), (('jury', 'said', 'friday'), -11.908488374400186), (('said', 'friday', 'an'), -11.908488374400186), (('friday', 'an', 'investigation'), -11.908488374400186), (('an', 'investigation', 'of'), -11.590034643281651), (('investigation', 'of', 'atlanta'), -11.908488374400186), (('of', 'atlanta', 's'), -11.908488374400186), (('atlanta', 's', 'recent'), -11.908488374400186), (('s', 'recent', 'primary'), -11.908488374400186), (('recent', 'primary', 'election'), -11.908488374400186), (('primary', 'election', 'produced'), -11.908488374400186), (('election', 'produced', 'no'), -11.908488374400186), (('produced', 'no', 'evidence'), -11.908488374400186), (('no', 'evidence', 'that'), -11.590034643281651), (('evidence', 'that', 'any'), -11.908488374400186), (('that', 'any', 'irregularities'), -11.908488374400186)]\n",
      "Smooth Trigrams:  8 :  [(('<start>', 'the', 'fulton'), -11.822797834839674), (('the', 'fulton', 'county'), -11.622127139377524), (('fulton', 'county', 'grand'), -11.822797834839674), (('county', 'grand', 'jury'), -11.822797834839674), (('grand', 'jury', 'said'), -11.822797834839674), (('jury', 'said', 'friday'), -11.822797834839674), (('said', 'friday', 'an'), -11.822797834839674), (('friday', 'an', 'investigation'), -11.822797834839674), (('an', 'investigation', 'of'), -11.535115762387894), (('investigation', 'of', 'atlanta'), -11.822797834839674), (('of', 'atlanta', 's'), -11.822797834839674), (('atlanta', 's', 'recent'), -11.822797834839674), (('s', 'recent', 'primary'), -11.822797834839674), (('recent', 'primary', 'election'), -11.822797834839674), (('primary', 'election', 'produced'), -11.822797834839674), (('election', 'produced', 'no'), -11.822797834839674), (('produced', 'no', 'evidence'), -11.822797834839674), (('no', 'evidence', 'that'), -11.535115762387894), (('evidence', 'that', 'any'), -11.822797834839674), (('that', 'any', 'irregularities'), -11.822797834839674)]\n",
      "Smooth Trigrams:  9 :  [(('<start>', 'the', 'fulton'), -11.748531831767417), (('the', 'fulton', 'county'), -11.566210274973463), (('fulton', 'county', 'grand'), -11.748531831767417), (('county', 'grand', 'jury'), -11.748531831767417), (('grand', 'jury', 'said'), -11.748531831767417), (('jury', 'said', 'friday'), -11.748531831767417), (('said', 'friday', 'an'), -11.748531831767417), (('friday', 'an', 'investigation'), -11.748531831767417), (('an', 'investigation', 'of'), -11.486167567299926), (('investigation', 'of', 'atlanta'), -11.748531831767417), (('of', 'atlanta', 's'), -11.748531831767417), (('atlanta', 's', 'recent'), -11.748531831767417), (('s', 'recent', 'primary'), -11.748531831767417), (('recent', 'primary', 'election'), -11.748531831767417), (('primary', 'election', 'produced'), -11.748531831767417), (('election', 'produced', 'no'), -11.748531831767417), (('produced', 'no', 'evidence'), -11.748531831767417), (('no', 'evidence', 'that'), -11.486167567299926), (('evidence', 'that', 'any'), -11.748531831767417), (('that', 'any', 'irregularities'), -11.748531831767417)]\n",
      "Smooth Trigrams:  10 :  [(('<start>', 'the', 'fulton'), -11.683378382436311), (('the', 'fulton', 'county'), -11.516324297773146), (('fulton', 'county', 'grand'), -11.683378382436311), (('county', 'grand', 'jury'), -11.683378382436311), (('grand', 'jury', 'said'), -11.683378382436311), (('jury', 'said', 'friday'), -11.683378382436311), (('said', 'friday', 'an'), -11.683378382436311), (('friday', 'an', 'investigation'), -11.683378382436311), (('an', 'investigation', 'of'), -11.442216325619425), (('investigation', 'of', 'atlanta'), -11.683378382436311), (('of', 'atlanta', 's'), -11.683378382436311), (('atlanta', 's', 'recent'), -11.683378382436311), (('s', 'recent', 'primary'), -11.683378382436311), (('recent', 'primary', 'election'), -11.683378382436311), (('primary', 'election', 'produced'), -11.683378382436311), (('election', 'produced', 'no'), -11.683378382436311), (('produced', 'no', 'evidence'), -11.683378382436311), (('no', 'evidence', 'that'), -11.442216325619425), (('evidence', 'that', 'any'), -11.683378382436311), (('that', 'any', 'irregularities'), -11.683378382436311)]\n"
     ]
    }
   ],
   "source": [
    "# Training Unigrams, Bigrams and Trigrams\n",
    "\n",
    "K = 10\n",
    "\n",
    "smooth_unigrams = []\n",
    "smooth_bigrams = []\n",
    "smooth_trigrams = []\n",
    "\n",
    "unigrams = bigrams = trigram = []\n",
    "\n",
    "for k in range (1, K+1):\n",
    "    unigram_model, unigrams = train_ngram_model_addk_smoothing (text = train_text, N = 1, K = k)\n",
    "    unigram_model[('<start>', )] = 0.00\n",
    "    smooth_unigrams.append(unigram_model)\n",
    "\n",
    "    bigram_model, bigrams = train_ngram_model_addk_smoothing (text = train_text, N = 2, K = k)\n",
    "    smooth_bigrams.append(bigram_model)\n",
    "\n",
    "    trigram_model, trigrams = train_ngram_model_addk_smoothing(text = train_text, N = 3, K = k)\n",
    "    smooth_trigrams.append(trigram_model)\n",
    "\n",
    "# printing smooth unigrams, bigrams and trigrams\n",
    "for i in range (K):\n",
    "    print (\"Smooth Unigrams: \", i+1, \": \", list(smooth_unigrams[i].items())[:20])\n",
    "\n",
    "print (\"\\n\\n\")\n",
    "\n",
    "for i in range (K):\n",
    "    print (\"Smooth Bigrams: \", i+1, \": \", list(smooth_bigrams[i].items())[:20])\n",
    "\n",
    "print (\"\\n\\n\")\n",
    "\n",
    "for i in range (K):\n",
    "    print (\"Smooth Trigrams: \", i+1, \": \", list(smooth_trigrams[i].items())[:20])"
   ]
  },
  {
   "cell_type": "markdown",
   "metadata": {},
   "source": [
    "# Probability & Perplexity Calculation\n",
    "\n",
    "The probabilities are calculated as `log_probabilities` to avoid underflow and help speed up computation. "
   ]
  },
  {
   "cell_type": "code",
   "execution_count": 11,
   "metadata": {},
   "outputs": [],
   "source": [
    "def calculate_addk_probability(N, ngram, K):\n",
    "\tif ngram == None:\n",
    "\t\treturn float('-inf')\n",
    "\t\t\n",
    "\tif (N == 1):\n",
    "\t\tngrams_count = len(unigrams)\n",
    "\telif N == 2:\n",
    "\t\tngrams_count = len(bigrams)\n",
    "\telse:\n",
    "\t\tngrams_count = len(trigrams)\n",
    "\n",
    "\tngram_log_probability = K / (ngrams_count + K*vocab_size)\n",
    "\t\n",
    "\treturn ngram_log_probability"
   ]
  },
  {
   "cell_type": "code",
   "execution_count": 12,
   "metadata": {},
   "outputs": [],
   "source": [
    "def calculate_perplexity(log_prob, sentence_len):\n",
    "  return 2**(-log_prob/sentence_len)"
   ]
  },
  {
   "cell_type": "markdown",
   "metadata": {},
   "source": [
    "# Smooth-Models Evaluation\n",
    "\n",
    "Here, all three models are run for `K = 1` to `10`"
   ]
  },
  {
   "cell_type": "code",
   "execution_count": 13,
   "metadata": {},
   "outputs": [],
   "source": [
    "def calculate_sentence_probability(N, sentence, K):\n",
    "    words = sentence.split()\n",
    "\n",
    "    ngrams = [tuple(words[i:i+N]) for i in range(len(words) - N+1)]\n",
    "    \n",
    "    if N == 1:\n",
    "        ngram_model = smooth_unigrams[K-1]\n",
    "    elif N == 2: \n",
    "        ngram_model = smooth_bigrams[K-1]\n",
    "    else:\n",
    "        ngram_model = smooth_trigrams[K-1]\n",
    "\n",
    "    # Calculate the smooth probability for each word\n",
    "    sentence_probability = 0\n",
    "    if N == 1:\n",
    "        ngram_counts = len(unigrams)\n",
    "    elif N == 2:\n",
    "        ngram_counts = len(bigrams)\n",
    "    else:\n",
    "        ngram_counts = len(trigrams)\n",
    "\n",
    "    for ngram in ngrams:\n",
    "        current_ngram_prob = ngram_model.get(ngram, float('-inf'))\n",
    "\n",
    "        if current_ngram_prob == float('-inf'):\n",
    "            current_ngram_prob = K / (ngram_counts + K*vocab_size)\n",
    "\n",
    "        sentence_probability += current_ngram_prob\n",
    "\n",
    "    return sentence_probability"
   ]
  },
  {
   "cell_type": "code",
   "execution_count": 14,
   "metadata": {},
   "outputs": [
    {
     "name": "stdout",
     "output_type": "stream",
     "text": [
      "K:  1 \t\tAverage Perplexity:  2.0661778049699984\n",
      "K:  2 \t\tAverage Perplexity:  2.069698175390296\n",
      "K:  3 \t\tAverage Perplexity:  2.0736658150034684\n",
      "K:  4 \t\tAverage Perplexity:  2.0778399288230065\n",
      "K:  5 \t\tAverage Perplexity:  2.082104156285152\n",
      "K:  6 \t\tAverage Perplexity:  2.086394286308455\n",
      "K:  7 \t\tAverage Perplexity:  2.090672186303471\n",
      "K:  8 \t\tAverage Perplexity:  2.0949142478848763\n",
      "K:  9 \t\tAverage Perplexity:  2.099105555862317\n",
      "K:  10 \t\tAverage Perplexity:  2.1032366690274684\n"
     ]
    }
   ],
   "source": [
    "K_Values = [1, 2, 3, 4, 5, 6, 7, 8, 9, 10]\n",
    "Avg_Perp = []\n",
    "\n",
    "for k in K_Values:\n",
    "    unigram_model = smooth_unigrams[k-1]\n",
    "\n",
    "    perplexities = []\n",
    "    for sentence in test_text.split(\"\\n\"):\n",
    "        if not sentence.split():\n",
    "            continue\n",
    "\n",
    "        probability = calculate_sentence_probability(1, sentence, k)\n",
    "        perplexity = calculate_perplexity(probability, len(sentence))\n",
    "\n",
    "        perplexities.append(perplexity)\n",
    "\n",
    "    avg_perplexity = sum(perplexities)/len(perplexities)\n",
    "    Avg_Perp.append(avg_perplexity)\n",
    "\n",
    "    print (\"K: \", k, \"\\t\\tAverage Perplexity: \", avg_perplexity)"
   ]
  },
  {
   "cell_type": "code",
   "execution_count": 15,
   "metadata": {},
   "outputs": [
    {
     "data": {
      "image/png": "[encoded data removed]",
      "text/plain": [
       "<Figure size 640x480 with 1 Axes>"
      ]
     },
     "metadata": {},
     "output_type": "display_data"
    }
   ],
   "source": [
    "import matplotlib.pyplot as plt\n",
    "\n",
    "# Plotting the line chart\n",
    "plt.plot(K_Values, Avg_Perp, marker='o', linestyle='-', color='b', label='Avg_Perp')\n",
    "\n",
    "# Adding labels and title\n",
    "plt.xlabel('K')\n",
    "plt.ylabel('Avg_Perp')\n",
    "plt.title('Line Chart of K vs Avg_Perp')\n",
    "\n",
    "# Adding grid\n",
    "plt.grid(True)\n",
    "\n",
    "# Adding legend\n",
    "plt.legend()\n",
    "\n",
    "# Display the plot\n",
    "plt.show()\n"
   ]
  },
  {
   "cell_type": "markdown",
   "metadata": {},
   "source": [
    "# Interpolation (`lambda1`, `lambda2`, `lamda3`)\n",
    "\n",
    "In section, a `5x5` grid is created for lambda values, which is then searched for the best combination by contiously testing on **Dev Data** (`./data/brown.dev.txt`).\n",
    "\n",
    "Finally, the best combination is selected for **Test Data** (`./data/brown.test.txt`)"
   ]
  },
  {
   "cell_type": "code",
   "execution_count": 16,
   "metadata": {},
   "outputs": [],
   "source": [
    "def interpolate_models(unigram_model, bigram_model, trigram_model, lambda1, lambda2, lambda3, K):\n",
    "    def calculate_interpolated_probability(unigram, bigram, trigram):\n",
    "        # Interpolate unigram, bigram, and trigram probabilities\n",
    "        prob_unigram = math.exp(unigram_model.get(unigram, calculate_addk_probability(1, unigram, K)))\n",
    "        prob_bigram = math.exp(bigram_model.get(bigram, calculate_addk_probability(2, bigram, K)))\n",
    "        prob_trigram = math.exp(trigram_model.get(trigram, calculate_addk_probability(3, trigram, K)))\n",
    "\n",
    "        # Calculate the interpolated probability\n",
    "        interpolated_probability = lambda1 * prob_unigram + lambda2 * prob_bigram + lambda3 * prob_trigram\n",
    "        return interpolated_probability\n",
    "\n",
    "    def calculate_sentence_probability(sentence):\n",
    "        words = sentence.split()\n",
    "        sentence_probability = 0.0\n",
    "\n",
    "        for i in range(len(words)):\n",
    "            unigram = words[i]\n",
    "            bigram = (words[i - 1], unigram) if i > 0 else None\n",
    "            trigram = (words[i - 2], words[i - 1], unigram) if i > 1 else None\n",
    "\n",
    "            # Calculate the interpolated probability for each word\n",
    "            interpolated_probability = calculate_interpolated_probability(unigram, bigram, trigram)\n",
    "            sentence_probability += math.log(interpolated_probability)\n",
    "\n",
    "        return sentence_probability\n",
    "\n",
    "    return calculate_sentence_probability"
   ]
  },
  {
   "cell_type": "code",
   "execution_count": 17,
   "metadata": {},
   "outputs": [
    {
     "name": "stdout",
     "output_type": "stream",
     "text": [
      "Best Parameters:  Param(K=1, l1=0.7, l2=0.2, l3=0.10000000000000009)\n",
      "Min Avg. Perplexity:  1.0242091389938281\n"
     ]
    }
   ],
   "source": [
    "from collections import namedtuple\n",
    "\n",
    "K = 10\n",
    "lambda1 = [0.1, 0.3, 0.5, 0.7, 0.9]\n",
    "lambda2 = [0.2, 0.4, 0.6, 0.8, 1.0]\n",
    "\n",
    "Param = namedtuple('Param', ['K', 'l1', 'l2', 'l3'])\n",
    "best_params = Param(K = -1, l1 = -1, l2 = -1, l3 = -1)\n",
    "\n",
    "min_avg_perplexity = float('inf')\n",
    "\n",
    "for k in range (1, K+1):\n",
    "    unigram_model = smooth_unigrams[k-1]\n",
    "    bigram_model = smooth_bigrams[k-1]\n",
    "    trigram_model = smooth_trigrams[k-1]\n",
    "\n",
    "    for l1 in lambda1:\n",
    "        for l2 in lambda2:\n",
    "            if l1 + l2 >= 1.0:\n",
    "                continue\n",
    "\n",
    "            interpolated_probability_func = interpolate_models(unigram_model, bigram_model, trigram_model, l1, l2, 1-(l1+l2), k)\n",
    "\n",
    "            sentences = dev_text.split('\\n') \n",
    "            interpolated_perplexities = []\n",
    "\n",
    "            for sentence in sentences:\n",
    "                probability = interpolated_probability_func(sentence)\n",
    "\n",
    "                try:\n",
    "                    perplexity = calculate_perplexity(probability, len(sentence))\n",
    "\n",
    "                    # print(\"Interpolated Probability:\", probability)\n",
    "                    interpolated_perplexities.append(perplexity)\n",
    "                except:\n",
    "                    pass\n",
    "\n",
    "            # print (interpolated_perplexities[:20], \" ...\")\n",
    "\n",
    "            average_interpolated_perplexities = sum(interpolated_perplexities) / len(interpolated_perplexities)\n",
    "\n",
    "            # print(\"Average Interpolated Perplexity: \", average_interpolated_perplexities)\n",
    "            if average_interpolated_perplexities < min_avg_perplexity:\n",
    "                best_params = Param (K = k, l1 = l1, l2 = l2, l3 = 1-(l1+l2))\n",
    "                min_avg_perplexity = average_interpolated_perplexities\n",
    "\n",
    "print (\"Best Parameters: \", best_params)\n",
    "print (\"Min Avg. Perplexity: \", min_avg_perplexity)"
   ]
  },
  {
   "cell_type": "markdown",
   "metadata": {},
   "source": [
    "# Choosing Best Hyperparamters for Modelling\n",
    "\n",
    "Values chosen are as follows:\n",
    "\n",
    "- `K` = 1, \n",
    "- `Lambda1` = 0.7, \n",
    "- `Lambda2` = 0.2, \n",
    "- `Lambda3` = 0.1"
   ]
  },
  {
   "cell_type": "code",
   "execution_count": 18,
   "metadata": {},
   "outputs": [
    {
     "name": "stdout",
     "output_type": "stream",
     "text": [
      "Avg Interpolated Perplexities:  1.0242109464459621\n"
     ]
    }
   ],
   "source": [
    "K = 1\n",
    "l1, l2, l3 = 0.7, 0.2, 0.1\n",
    "\n",
    "unigram_model = smooth_unigrams[k-1]\n",
    "bigram_model = smooth_bigrams[k-1]\n",
    "trigram_model = smooth_trigrams[k-1]\n",
    "\n",
    "interpolated_probability_func = interpolate_models(unigram_model, bigram_model, trigram_model, l1, l2, 1-(l1+l2), K)\n",
    "\n",
    "sentences = dev_text.split('\\n') \n",
    "interpolated_perplexities = []\n",
    "\n",
    "for sentence in sentences:\n",
    "    probability = interpolated_probability_func(sentence)\n",
    "\n",
    "    try:\n",
    "        perplexity = calculate_perplexity(probability, len(sentence))\n",
    "\n",
    "        # print(\"Interpolated Probability:\", probability)\n",
    "        interpolated_perplexities.append(perplexity)\n",
    "    except:\n",
    "        pass\n",
    "\n",
    "# print (interpolated_perplexities[:20], \" ...\")\n",
    "\n",
    "average_interpolated_perplexities = sum(interpolated_perplexities) / len(interpolated_perplexities)\n",
    "print (\"Avg Interpolated Perplexities: \", average_interpolated_perplexities)"
   ]
  }
 ],
 "metadata": {
  "kernelspec": {
   "display_name": "Python 3",
   "language": "python",
   "name": "python3"
  },
  "language_info": {
   "codemirror_mode": {
    "name": "ipython",
    "version": 3
   },
   "file_extension": ".py",
   "mimetype": "text/x-python",
   "name": "python",
   "nbconvert_exporter": "python",
   "pygments_lexer": "ipython3",
   "version": "3.10.12"
  }
 },
 "nbformat": 4,
 "nbformat_minor": 2
}
